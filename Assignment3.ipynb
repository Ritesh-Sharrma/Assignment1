{
 "cells": [
  {
   "cell_type": "code",
   "execution_count": 1,
   "id": "24c5f361-1e6f-4fd6-a68a-02de6f9d2d97",
   "metadata": {},
   "outputs": [
    {
     "name": "stdin",
     "output_type": "stream",
     "text": [
      "Enter your address: New Delhi\n",
      "enter your name: Ritesh\n",
      "Today's Date: 22-7-2025\n",
      "Enter your minimum package you want: 15k\n",
      "Enter contact gmail: ritesh.sharma82731@gmail.com\n",
      "Enter HR name: Amana Bora\n"
     ]
    },
    {
     "name": "stdout",
     "output_type": "stream",
     "text": [
      "New Delhi\n",
      "Ritesh\n",
      "22-7-2025\n",
      "15k\n",
      "ritesh.sharma82731@gmail.com\n",
      "Amana Bora\n",
      "New Delhi\n",
      "\n",
      "Dear Ritesh,\n",
      "\n",
      "Subject: Offer of Employment for the position of Python Developer\n",
      "\n",
      "We are delighted to extend this formal offer of employment to you for the position of Python Developer at our organization. Based on your qualifications and the skills you demonstrated during the recruitment process, we are confident that you will be a valuable addition to our team.\n",
      "\n",
      "As discussed, your expected date of joining is 22-7-2025. Your total compensation package will be 15k, which includes all salary components as per the company’s policy. Further details regarding your compensation will be provided in your employment contract.\n",
      "\n",
      "We expect you to bring your best efforts to help the company achieve its goals, and we are committed to supporting your professional growth during your time with us.\n",
      "\n",
      "Please confirm your acceptance of this offer by sending an email to ritesh.sharma82731@gmail.com your earliest convenience. Should you have any queries regarding this offer, feel free to reach out to us.\n",
      "\n",
      "We look forward to having you onboard and are excited about the great things we can accomplish together.\n",
      "\n",
      "Sincerely,\n",
      "\n",
      "Amana Bora\n",
      "HR Manager\n",
      "\n"
     ]
    }
   ],
   "source": [
    "Address = input(\"Enter your address:\")\n",
    "Name = input(\"enter your name:\")\n",
    "Date = input(\"Today's Date:\")\n",
    "Package = input(\"Enter your minimum package you want:\")\n",
    "Contact_gmail = input(\"Enter contact gmail:\")\n",
    "HR_manager = input(\"Enter HR name:\")\n",
    "print(Address)\n",
    "print(Name)\n",
    "print(Date)\n",
    "print(Package)\n",
    "print(Contact_gmail)\n",
    "print(HR_manager)\n",
    "print(f\"\"\"{Address}\n",
    "\n",
    "Dear {Name},\n",
    "\n",
    "Subject: Offer of Employment for the position of Python Developer\n",
    "\n",
    "We are delighted to extend this formal offer of employment to you for the position of Python Developer at our organization. Based on your qualifications and the skills you demonstrated during the recruitment process, we are confident that you will be a valuable addition to our team.\n",
    "\n",
    "As discussed, your expected date of joining is {Date}. Your total compensation package will be {Package}, which includes all salary components as per the company’s policy. Further details regarding your compensation will be provided in your employment contract.\n",
    "\n",
    "We expect you to bring your best efforts to help the company achieve its goals, and we are committed to supporting your professional growth during your time with us.\n",
    "\n",
    "Please confirm your acceptance of this offer by sending an email to {Contact_gmail} your earliest convenience. Should you have any queries regarding this offer, feel free to reach out to us.\n",
    "\n",
    "We look forward to having you onboard and are excited about the great things we can accomplish together.\n",
    "\n",
    "Sincerely,\n",
    "\n",
    "{HR_manager}\n",
    "HR Manager\n",
    "\"\"\")"
   ]
  }
 ],
 "metadata": {
  "kernelspec": {
   "display_name": "Python 3 (ipykernel)",
   "language": "python",
   "name": "python3"
  },
  "language_info": {
   "codemirror_mode": {
    "name": "ipython",
    "version": 3
   },
   "file_extension": ".py",
   "mimetype": "text/x-python",
   "name": "python",
   "nbconvert_exporter": "python",
   "pygments_lexer": "ipython3",
   "version": "3.12.4"
  }
 },
 "nbformat": 4,
 "nbformat_minor": 5
}
