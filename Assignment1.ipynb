{
 "cells": [
  {
   "cell_type": "code",
   "execution_count": null,
   "id": "6e043547-e4fd-40eb-9556-ad4b6664ee96",
   "metadata": {},
   "outputs": [],
   "source": [
    "#Assignment 1\n",
    "#Solution :1 \n",
    "\n",
    "# Values:\n",
    "'hello'      # String\n",
    "-87.8        # Float\n",
    "6            # Integer\n",
    "\n",
    "# Expressions:\n",
    "-            # Subtraction\n",
    "/            # Division\n",
    "+            # Addition\n"
   ]
  },
  {
   "cell_type": "code",
   "execution_count": null,
   "id": "a1aff9b0-e8f6-4194-ae2e-31a0ea0d922b",
   "metadata": {},
   "outputs": [],
   "source": [
    "#Solution :2\n",
    "\n",
    "#Difference between String and Variable:\n",
    "#String: A string is a sequence of characters enclosed in inverted commas.\n",
    "Example: 'Ritesh'\n",
    "\n",
    "#Variable: A variable is a name used to store data such as a string, number, etc.\n",
    "Example: name = 'Ritesh'"
   ]
  },
  {
   "cell_type": "code",
   "execution_count": null,
   "id": "b777adbf-0be8-4ced-9270-fa424a73363d",
   "metadata": {},
   "outputs": [],
   "source": [
    "#Solution :3\n",
    "# Integer\n",
    "x = 10    \n",
    "\n",
    "# Float\n",
    "y = 10.5     \n",
    "\n",
    "# String\n",
    "z = \"Hello\"  \n"
   ]
  },
  {
   "cell_type": "code",
   "execution_count": 9,
   "id": "28c1702a-7ffb-42a6-9270-789ff84d01f0",
   "metadata": {},
   "outputs": [
    {
     "data": {
      "text/plain": [
       "16"
      ]
     },
     "execution_count": 9,
     "metadata": {},
     "output_type": "execute_result"
    }
   ],
   "source": [
    "#Solution :4\n",
    "#What is an expression?\n",
    "#An expression is made up of values, variables, and operators.\n",
    "(5 + 3) * 2  # Expression evaluates to 16 ."
   ]
  },
  {
   "cell_type": "code",
   "execution_count": 27,
   "id": "ff6b343b-b46b-450a-8d25-f8dcbcbfdc85",
   "metadata": {},
   "outputs": [],
   "source": [
    "#Solution :5\n",
    "\n",
    "#Expression: Produces a value.\n",
    "3 + 4\n",
    "\n",
    "#Statement: Performs an action.\n",
    "spam = 10"
   ]
  },
  {
   "cell_type": "code",
   "execution_count": 2,
   "id": "b9ff7e25-ecbc-493f-a9af-ee48af1e8de5",
   "metadata": {},
   "outputs": [
    {
     "name": "stdout",
     "output_type": "stream",
     "text": [
      "22\n"
     ]
    }
   ],
   "source": [
    "#solution :6\n",
    "#What does the variable bacon contain?\n",
    "bacon = 22\n",
    "bacon + 1\n",
    "print(bacon)\n"
   ]
  },
  {
   "cell_type": "code",
   "execution_count": 3,
   "id": "8e34b9c8-3c2f-4a3a-9eca-899bd8426d21",
   "metadata": {},
   "outputs": [
    {
     "name": "stdout",
     "output_type": "stream",
     "text": [
      "spamspamspam\n"
     ]
    }
   ],
   "source": [
    "#solution :7\n",
    "print('spam' + 'spamspam')"
   ]
  },
  {
   "cell_type": "code",
   "execution_count": 4,
   "id": "1c4313a5-029d-4b07-bea5-e60ec6a42dc1",
   "metadata": {},
   "outputs": [
    {
     "name": "stdout",
     "output_type": "stream",
     "text": [
      "spamspamspam\n"
     ]
    }
   ],
   "source": [
    "print('spam' * 3) "
   ]
  },
  {
   "cell_type": "code",
   "execution_count": null,
   "id": "5f4d9286-0879-494c-b9fe-2286d59f826a",
   "metadata": {},
   "outputs": [],
   "source": [
    "#solution :8\n",
    "\n",
    "#eggs: Valid because it starts with a letter.\n",
    "\n",
    "#100: Invalid because variable names cannot start with a number.\n",
    "\n"
   ]
  },
  {
   "cell_type": "code",
   "execution_count": null,
   "id": "58987ed3-9b35-44ad-9fe5-792d2265e357",
   "metadata": {},
   "outputs": [],
   "source": [
    "#Solution : 9\n",
    "int()    # Converts to integer\n",
    "float()  # Converts to float\n",
    "str()    # Converts to string\n"
   ]
  },
  {
   "cell_type": "code",
   "execution_count": 8,
   "id": "55d4298c-24ac-4757-b0aa-85a6d72f1402",
   "metadata": {},
   "outputs": [
    {
     "name": "stdout",
     "output_type": "stream",
     "text": [
      "I have eaten 99 burritos\n"
     ]
    }
   ],
   "source": [
    "#Solution :10\n",
    "#Fixing the expression\n",
    "#'I have eaten ' + 99 + ' burritos.\n",
    "print('I have eaten ' + str(99) + ' burritos')\n"
   ]
  }
 ],
 "metadata": {
  "kernelspec": {
   "display_name": "Python 3 (ipykernel)",
   "language": "python",
   "name": "python3"
  },
  "language_info": {
   "codemirror_mode": {
    "name": "ipython",
    "version": 3
   },
   "file_extension": ".py",
   "mimetype": "text/x-python",
   "name": "python",
   "nbconvert_exporter": "python",
   "pygments_lexer": "ipython3",
   "version": "3.12.4"
  }
 },
 "nbformat": 4,
 "nbformat_minor": 5
}
