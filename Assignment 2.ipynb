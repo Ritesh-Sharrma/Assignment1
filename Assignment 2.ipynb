{
 "cells": [
  {
   "cell_type": "code",
   "execution_count": 5,
   "id": "cb170ff3-a178-4e64-af29-36870b8277c6",
   "metadata": {},
   "outputs": [
    {
     "name": "stdout",
     "output_type": "stream",
     "text": [
      "Ritesh\n"
     ]
    }
   ],
   "source": [
    "# 1 USING CAPITALIZE FUNCTION\n",
    "name=\"ritesh\"\n",
    "name=name.capitalize()\n",
    "print(name)"
   ]
  },
  {
   "cell_type": "code",
   "execution_count": 6,
   "id": "107171d3-49c2-475b-a8e3-655777e8a7d2",
   "metadata": {},
   "outputs": [
    {
     "name": "stdout",
     "output_type": "stream",
     "text": [
      "ritesh\n"
     ]
    }
   ],
   "source": [
    "#2 USING LOWER FUNCTION\n",
    "name=\"RITESH\"\n",
    "name=name.lower()\n",
    "print(name)"
   ]
  },
  {
   "cell_type": "code",
   "execution_count": 8,
   "id": "af1beea3-7db2-4bc0-91f9-0d04dcdb5333",
   "metadata": {},
   "outputs": [
    {
     "name": "stdout",
     "output_type": "stream",
     "text": [
      "RITESH\n"
     ]
    }
   ],
   "source": [
    "#3 USING UPPER FUNCTION\n",
    "name=\"ritesh\"\n",
    "name=name.upper()\n",
    "print(name)"
   ]
  },
  {
   "cell_type": "code",
   "execution_count": 11,
   "id": "6a831f51-82a1-47ab-81cd-19e47ca1bac9",
   "metadata": {},
   "outputs": [
    {
     "name": "stdout",
     "output_type": "stream",
     "text": [
      "1\n"
     ]
    }
   ],
   "source": [
    "#4 USING COUNT FUNCTION\n",
    "name=\"RITESH\"\n",
    "name=name.count(\"R\")\n",
    "print(name)"
   ]
  },
  {
   "cell_type": "code",
   "execution_count": 1,
   "id": "d7605d03-dc45-4841-b4fc-2292d9d9d47c",
   "metadata": {},
   "outputs": [
    {
     "data": {
      "text/plain": [
       "True"
      ]
     },
     "execution_count": 1,
     "metadata": {},
     "output_type": "execute_result"
    }
   ],
   "source": [
    "#5 USING STARTSWITH FUNCTION\n",
    "name=\"RITESH\"\n",
    "name.startswith(\"R\")"
   ]
  },
  {
   "cell_type": "code",
   "execution_count": 2,
   "id": "7118ad4a-1c8c-428d-a7a1-05bd7ae44f56",
   "metadata": {},
   "outputs": [
    {
     "data": {
      "text/plain": [
       "True"
      ]
     },
     "execution_count": 2,
     "metadata": {},
     "output_type": "execute_result"
    }
   ],
   "source": [
    "#6 USING ENDSWITH FUNCTION\n",
    "name=\"RITESH\"\n",
    "name.endswith(\"H\")"
   ]
  },
  {
   "cell_type": "code",
   "execution_count": 9,
   "id": "947596f1-7e7d-4fea-a8f4-c0182719e602",
   "metadata": {},
   "outputs": [
    {
     "name": "stdout",
     "output_type": "stream",
     "text": [
      "1\n",
      "5\n"
     ]
    }
   ],
   "source": [
    "#7 USING FIND FUNCTION\n",
    "name=\"RITESH\"\n",
    "print(name.find(\"I\"))\n",
    "print(name.find(\"H\"))"
   ]
  },
  {
   "cell_type": "code",
   "execution_count": 13,
   "id": "9f4bbe7d-4802-4894-8619-19dd9a77d3ce",
   "metadata": {},
   "outputs": [
    {
     "name": "stdout",
     "output_type": "stream",
     "text": [
      "12\n"
     ]
    }
   ],
   "source": [
    "#8 USING index FUNCTION\n",
    "name=\"PYTHON IS A PROGRAMMING LANGUAGE\"\n",
    "index = name.index(\"PROGRAMMING\")\n",
    "print(index)"
   ]
  },
  {
   "cell_type": "code",
   "execution_count": 18,
   "id": "7545331c-a6dd-40a8-aa6c-3ded77148e31",
   "metadata": {},
   "outputs": [
    {
     "name": "stdout",
     "output_type": "stream",
     "text": [
      "True\n",
      "True\n",
      "True\n",
      "False\n"
     ]
    }
   ],
   "source": [
    "#9 Using string.isalnum\n",
    "string1=\"heloo0123\"\n",
    "string2=\"12345678\"\n",
    "string3=\"Hellooo\"\n",
    "string4=\"hello world\"\n",
    "print(string1.isalnum())\n",
    "print(string2.isalnum())\n",
    "print(string3.isalnum())\n",
    "print(string4.isalnum())\n"
   ]
  },
  {
   "cell_type": "code",
   "execution_count": 20,
   "id": "96f891da-d968-4404-8a67-0192d60abff8",
   "metadata": {},
   "outputs": [
    {
     "name": "stdout",
     "output_type": "stream",
     "text": [
      "True\n",
      "False\n"
     ]
    }
   ],
   "source": [
    "#10 Using string.isalpha()\n",
    "name = \"Ritesh\"\n",
    "age = \"23\"\n",
    "print(name.isalpha())\n",
    "print(age.isalpha())"
   ]
  },
  {
   "cell_type": "code",
   "execution_count": 23,
   "id": "bd4b1c77-13d2-486f-a204-e52b94a3939e",
   "metadata": {},
   "outputs": [
    {
     "name": "stdout",
     "output_type": "stream",
     "text": [
      "True\n",
      "False\n",
      "False\n"
     ]
    }
   ],
   "source": [
    "#11 Using string.isdecimal()\n",
    "string1 = \"12345\"\n",
    "string2 = \"12.345\"\n",
    "string3 = \"hello\"\n",
    "print(string1.isdecimal())\n",
    "print(string2.isdecimal())\n",
    "print(string3.isdecimal())"
   ]
  },
  {
   "cell_type": "code",
   "execution_count": 26,
   "id": "0252c273-b4b5-43ab-89a3-8533fccb534e",
   "metadata": {},
   "outputs": [
    {
     "name": "stdout",
     "output_type": "stream",
     "text": [
      "True\n",
      "False\n",
      "False\n"
     ]
    }
   ],
   "source": [
    "#12 Using string.isdigit()\n",
    "string1 = \"12345\"\n",
    "string2= \"123.55\"\n",
    "stirng=\"hello\"\n",
    "print(string1.isdigit())\n",
    "print(string2.isdigit())\n",
    "print(string3.isdigit())\n"
   ]
  },
  {
   "cell_type": "code",
   "execution_count": 28,
   "id": "bbbd7489-4c12-46cf-b14e-6a208283f401",
   "metadata": {},
   "outputs": [
    {
     "name": "stdout",
     "output_type": "stream",
     "text": [
      "True\n",
      "False\n"
     ]
    }
   ],
   "source": [
    "#13 Using string.isnumeric()\n",
    "stirng1 = \"12345\"\n",
    "stirng2 = \"12.345\"\n",
    "print(stirng1.isnumeric())\n",
    "print(string2.isnumeric())"
   ]
  },
  {
   "cell_type": "code",
   "execution_count": 30,
   "id": "545579fe-4dd8-4c42-9ae2-20a080a8836e",
   "metadata": {},
   "outputs": [
    {
     "name": "stdout",
     "output_type": "stream",
     "text": [
      "rITESH sHARMA\n"
     ]
    }
   ],
   "source": [
    "#14 Using string.swapcase()\n",
    "#upper case become lower case \n",
    "\n",
    "name = \"Ritesh Sharma\"\n",
    "result = name.swapcase()\n",
    "print(result)"
   ]
  },
  {
   "cell_type": "code",
   "execution_count": 35,
   "id": "d1d8bf8f-3990-478a-8f38-ba3e4f876ce5",
   "metadata": {},
   "outputs": [
    {
     "name": "stdout",
     "output_type": "stream",
     "text": [
      "091\n",
      "00091\n"
     ]
    }
   ],
   "source": [
    "#15 Using string.zfill() \n",
    "#add (0) at the left\n",
    "data = \"91\"\n",
    "result1 = data.zfill(3)\n",
    "result2 = data.zfill(5)\n",
    "print(result1)\n",
    "print(result2)\n",
    "\n"
   ]
  },
  {
   "cell_type": "code",
   "execution_count": 36,
   "id": "ec5d5dae-f6c0-427a-92ea-069580942e1b",
   "metadata": {},
   "outputs": [
    {
     "name": "stdout",
     "output_type": "stream",
     "text": [
      "Ritesh Sharma\n"
     ]
    }
   ],
   "source": [
    "#16 Using string.strip() \n",
    "#remove unwanted sapce from left and right\n",
    "name = \"  Ritesh Sharma  \"\n",
    "print(name.strip())"
   ]
  },
  {
   "cell_type": "code",
   "execution_count": 37,
   "id": "f2300c2d-ea66-4c98-be9f-43fe27440b21",
   "metadata": {},
   "outputs": [
    {
     "name": "stdout",
     "output_type": "stream",
     "text": [
      "['Ritesh', 'Sharma']\n"
     ]
    }
   ],
   "source": [
    "#17 Using string.split() \n",
    "#split the sentance in  place of space\n",
    "FULL_NAME = \"Ritesh Sharma\"\n",
    "print(FULL_NAME.split())\n"
   ]
  },
  {
   "cell_type": "code",
   "execution_count": 41,
   "id": "802ae419-361c-4ad7-bcfc-f9c0c60654d1",
   "metadata": {},
   "outputs": [
    {
     "data": {
      "text/plain": [
       "'Rohanisagoodboy'"
      ]
     },
     "execution_count": 41,
     "metadata": {},
     "output_type": "execute_result"
    }
   ],
   "source": [
    "#18 Using join() method\n",
    "\n",
    "list1 = [\"Rohan\",\"is\",\"a\",\"good\",\"boy\"]\n",
    "\"\".join(list1)"
   ]
  },
  {
   "cell_type": "code",
   "execution_count": 43,
   "id": "e1a668e8-d550-4bba-adf0-e04aaad67506",
   "metadata": {},
   "outputs": [
    {
     "data": {
      "text/plain": [
       "'that at a cat'"
      ]
     },
     "execution_count": 43,
     "metadata": {},
     "output_type": "execute_result"
    }
   ],
   "source": [
    "#19 Using maketrans() method\n",
    "#translate a word to another meaningfull word\n",
    "table =str.maketrans(\"is\",\"at\")\n",
    "\"this is a cat\".translate(table)\n"
   ]
  },
  {
   "cell_type": "code",
   "execution_count": 45,
   "id": "34b7c473-3683-415b-8ba5-e0415987cea9",
   "metadata": {},
   "outputs": [
    {
     "name": "stdout",
     "output_type": "stream",
     "text": [
      "123ing\n"
     ]
    }
   ],
   "source": [
    "#20 Replace characters 'a', 'b', and 'c' with '1', '2', and '3'\n",
    "translation_table = str.maketrans('str', '123')\n",
    "text = \"string\"\n",
    "result = text.translate(translation_table)\n",
    "print(result)  "
   ]
  },
  {
   "cell_type": "code",
   "execution_count": 63,
   "id": "a668b9fa-c91b-43b4-8a19-6e8a29a8dfdf",
   "metadata": {},
   "outputs": [
    {
     "name": "stdout",
     "output_type": "stream",
     "text": [
      " m gong to duct n nod\n"
     ]
    }
   ],
   "source": [
    "#21 Delete characters 'a', 'e', and 'i'\n",
    "translation_table = str.maketrans('', '', 'aei')\n",
    "text = \"i am going to ducta in noida\"\n",
    "result = text.translate(translation_table)\n",
    "print(result)  "
   ]
  },
  {
   "cell_type": "code",
   "execution_count": 50,
   "id": "b9d72fc0-723a-40c7-8e81-59ed94d0b7db",
   "metadata": {},
   "outputs": [
    {
     "name": "stdout",
     "output_type": "stream",
     "text": [
      "@8(&e\n"
     ]
    }
   ],
   "source": [
    "#22 map specific characters to replacements\n",
    "translation_table = str.maketrans({'a': '@', 'b': '8', 'c': '(','d':'&'})\n",
    "text = \"abcde\"\n",
    "result = text.translate(translation_table)\n",
    "print(result)\n"
   ]
  },
  {
   "cell_type": "code",
   "execution_count": 62,
   "id": "0b93226e-5fb6-4202-a322-cb179d9cbdc2",
   "metadata": {},
   "outputs": [
    {
     "name": "stdout",
     "output_type": "stream",
     "text": [
      "string with punctuation inside of it Does this work\n"
     ]
    }
   ],
   "source": [
    "#23 removing puntuation \n",
    "your_string = 'string with \"punctuation\" inside of it! Does this work?.'\n",
    "import string\n",
    "\n",
    "print(your_string.translate(str.maketrans('', '',string.punctuation)))"
   ]
  },
  {
   "cell_type": "code",
   "execution_count": 52,
   "id": "1fd88f35-f534-4060-bffa-95dd8258b394",
   "metadata": {},
   "outputs": [
    {
     "name": "stdout",
     "output_type": "stream",
     "text": [
      "5\n",
      "10\n",
      "20\n",
      "26\n"
     ]
    }
   ],
   "source": [
    "#24 enumerate() function\n",
    "string = \"hlo welcome to jupyter notebook\"\n",
    "\n",
    "for index,char in enumerate(string):\n",
    "    if  char == \"e\": #specify index value of 'e'\n",
    "        print(index)\n",
    "    "
   ]
  },
  {
   "cell_type": "code",
   "execution_count": 60,
   "id": "a3e65c64-d2c6-4f3b-b751-a3a63ca9c960",
   "metadata": {},
   "outputs": [
    {
     "data": {
      "text/plain": [
       "'hello'"
      ]
     },
     "execution_count": 60,
     "metadata": {},
     "output_type": "execute_result"
    }
   ],
   "source": [
    "#25 case fold()\n",
    "firstString = \"hello\"\n",
    "firstString.casefold()\n"
   ]
  },
  {
   "cell_type": "code",
   "execution_count": 1,
   "id": "d5c48e25-5ddc-42ce-8d10-d5940cc529d2",
   "metadata": {},
   "outputs": [
    {
     "name": "stdout",
     "output_type": "stream",
     "text": [
      "hELLO wORLD!\n"
     ]
    }
   ],
   "source": [
    "#26 str.swapcase()\n",
    "s = \"Hello World!\"\n",
    "print(s.swapcase())"
   ]
  },
  {
   "cell_type": "code",
   "execution_count": 2,
   "id": "6b00dda4-8783-49bf-85c7-62d6a65147d5",
   "metadata": {},
   "outputs": [
    {
     "name": "stdout",
     "output_type": "stream",
     "text": [
      "Hello World\n"
     ]
    }
   ],
   "source": [
    "#27 str.title()\n",
    "s = \"hello world\"\n",
    "print(s.title())"
   ]
  },
  {
   "cell_type": "code",
   "execution_count": 3,
   "id": "9d9e9f04-595a-4ba9-a552-a235b8c83daf",
   "metadata": {},
   "outputs": [
    {
     "name": "stdout",
     "output_type": "stream",
     "text": [
      "xyzzo\n"
     ]
    }
   ],
   "source": [
    "#28 str.translate(table)\n",
    "s = \"hello\"\n",
    "table = str.maketrans('hel', 'xyz')\n",
    "print(s.translate(table))"
   ]
  },
  {
   "cell_type": "code",
   "execution_count": 4,
   "id": "314c0ec5-bb9e-4e1a-95d0-1bb0cebb12f0",
   "metadata": {},
   "outputs": [
    {
     "name": "stdout",
     "output_type": "stream",
     "text": [
      "HELLO WORLD\n"
     ]
    }
   ],
   "source": [
    "#29 str.upper()\n",
    "s = \"hello world\"\n",
    "print(s.upper())"
   ]
  },
  {
   "cell_type": "code",
   "execution_count": 5,
   "id": "76e8c3dd-dc9e-4fc1-a2ae-e46ea3f66589",
   "metadata": {},
   "outputs": [
    {
     "name": "stdout",
     "output_type": "stream",
     "text": [
      "00042\n"
     ]
    }
   ],
   "source": [
    "#30 str.zfill(width)\n",
    "s = \"42\"\n",
    "print(s.zfill(5))\n"
   ]
  }
 ],
 "metadata": {
  "kernelspec": {
   "display_name": "Python 3 (ipykernel)",
   "language": "python",
   "name": "python3"
  },
  "language_info": {
   "codemirror_mode": {
    "name": "ipython",
    "version": 3
   },
   "file_extension": ".py",
   "mimetype": "text/x-python",
   "name": "python",
   "nbconvert_exporter": "python",
   "pygments_lexer": "ipython3",
   "version": "3.12.4"
  }
 },
 "nbformat": 4,
 "nbformat_minor": 5
}
